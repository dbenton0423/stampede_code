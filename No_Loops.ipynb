{
 "cells": [
  {
   "cell_type": "code",
   "execution_count": 1,
   "metadata": {},
   "outputs": [],
   "source": [
    "''' Imports '''\n",
    "\n",
    "import numpy as np \n",
    "import pandas as pd\n",
    "import gizmo_analysis as gizmo  \n",
    "import utilities as ut\n",
    "import time as t\n",
    "import gc"
   ]
  },
  {
   "cell_type": "code",
   "execution_count": 2,
   "metadata": {},
   "outputs": [],
   "source": [
    "#############################################################################\n",
    "#constants, binning, & cuts\n",
    "#############################################################################\n",
    "\n",
    "MsunToGm = 1.99e33\n",
    "KpcToCm  = 3.086e21\n",
    "mp       = 1.67e-24\n",
    "\n",
    "bin_edge = 30. # out to Rcyl = 30 kpc\n",
    "bins     = np.arange(-25,25,0.1)\n",
    "zmax     = 1.5  # include only gas/stars within +/- 1.5 kpc of plane of disk\n",
    "age_min  = 4    # age minimum in Myr\n",
    "age_max  = 6    # age maximum in Myr"
   ]
  },
  {
   "cell_type": "code",
   "execution_count": 3,
   "metadata": {},
   "outputs": [
    {
     "name": "stdout",
     "output_type": "stream",
     "text": [
      "\n",
      "# in utilities.simulation.Snapshot():\n",
      "* reading:  scratch/projects/xsede/GalaxiesOnFIRE/fire3/m12i_m7e3/m12i_m7e3_HD_fire3_fireBH_Sep052021_hr_crdiffc690_sdp1e10_gacc31_fa0.5/snapshot_times.txt\n",
      "\n",
      "* reading:  scratch/projects/xsede/GalaxiesOnFIRE/fire3/m12i_m7e3/m12i_m7e3_HD_fire3_fireBH_Sep052021_hr_crdiffc690_sdp1e10_gacc31_fa0.5/snapshot_scalefactors.txt\n",
      "\n",
      "* reading:  scratch/projects/xsede/GalaxiesOnFIRE/fire3/m12i_m7e3/m12i_m7e3_HD_fire3_fireBH_Sep052021_hr_crdiffc690_sdp1e10_gacc31_fa0.5/snapshot_scale-factors.txt\n",
      "\n",
      "  using snapshot index = 12, redshift = 9.000\n",
      "\n",
      "\n",
      "# in gizmo_analysis.gizmo_io.Read():\n",
      "* reading header from:  scratch/projects/xsede/GalaxiesOnFIRE/fire3/m12i_m7e3/m12i_m7e3_HD_fire3_fireBH_Sep052021_hr_crdiffc690_sdp1e10_gacc31_fa0.5/output/snapshot_012.hdf5\n",
      "  snapshot contains the following number of particles:\n",
      "    dark      (id = 1): 70514272 particles\n",
      "    dark2     (id = 2): 5513331 particles\n",
      "    gas       (id = 0): 70507868 particles\n",
      "    star      (id = 4): 6404 particles\n",
      "    blackhole (id = 5): 0 particles\n",
      "\n",
      "* reading species: ['star', 'gas']\n",
      "* reading particles from:\n",
      "    scratch/projects/xsede/GalaxiesOnFIRE/fire3/m12i_m7e3/m12i_m7e3_HD_fire3_fireBH_Sep052021_hr_crdiffc690_sdp1e10_gacc31_fa0.5/output/snapshot_012.hdf5\n",
      "\n",
      "! cannot find MUSIC config file:  scratch/projects/xsede/GalaxiesOnFIRE/fire3/m12i_m7e3/m12i_m7e3_HD_fire3_fireBH_Sep052021_hr_crdiffc690_sdp1e10_gacc31_fa0.5/*/*.conf\n",
      "! missing cosmological parameters, assuming the following (from AGORA):\n",
      "  assuming sigma_8 = 0.807\n",
      "  assuming n_s = 0.961\n",
      "\n",
      "* checking sanity of particle properties\n",
      "\n",
      "  cannot read file containing hosts coordinates\n",
      "  instead will assign hosts via iterative zoom on particle mass\n",
      "\n",
      "# in utilities.particle.get_center_positions():\n",
      "* assigning position for 1 center/host, via iterative zoom-in on star particle mass\n",
      "  host1 position = (43440.70, 42359.93, 44136.32) [kpc comoving]\n",
      "\n",
      "# in utilities.particle.get_center_velocities():\n",
      "* assigning velocity for 1 center/host, weighting star particles by mass\n",
      "  host1 velocity = (-24.5, 34.8, 37.7) [km / s]\n",
      "\n",
      "\n",
      "# in utilities.particle.get_principal_axes():\n",
      "* assigning rotation tensor for 1 host\n",
      "  using star particles at distance < 10.0 kpc\n",
      "  using distance < 9.3 kpc that encloses 90% of mass\n",
      "  using youngest 25% of star particles\n",
      "  host1: using star particles with age = [0.000, 0.147] Gyr\n",
      "  host1: axis ratios: min/maj = 0.030, min/med = 0.056, med/maj = 0.546\n",
      "\n"
     ]
    }
   ],
   "source": [
    "#########################################################################################################\n",
    "\n",
    "''' loading and reading the simulation '''\n",
    "\n",
    "simname = '/scratch/projects/xsede/GalaxiesOnFIRE/fire3/m12i_m7e3/m12i_m7e3_HD_fire3_fireBH_Sep052021_hr_crdiffc690_sdp1e10_gacc31_fa0.5/'                                                         \n",
    "simdir = '/scratch/projects/xsede/GalaxiesOnFIRE/fire3/m12i_m7e3/m12i_m7e3_HD_fire3_fireBH_Sep052021_hr_crdiffc690_sdp1e10_gacc31_fa0.5/'\n",
    "part = gizmo.io.Read.read_snapshots(['star','gas'],'snapshot_index', 12\n",
    "                                    , simulation_name=simname, simulation_directory=simdir,\n",
    "                                    assign_hosts_rotation=True, assign_hosts=True)\n",
    "\n",
    "#########################################################################################################\n"
   ]
  },
  {
   "cell_type": "code",
   "execution_count": 4,
   "metadata": {},
   "outputs": [
    {
     "name": "stdout",
     "output_type": "stream",
     "text": [
      "70507868\n"
     ]
    }
   ],
   "source": [
    "gas_ids = part['gas']['id']\n",
    "gas_gen = part['gas']['id.generation']\n",
    "gas_den = part['gas']['density']\n",
    "selection = gas_gen == 0\n",
    "gas_ids_selected = gas_ids[selection]\n",
    "#dosort = np.argsort(gas_ids_selected)\n",
    "gas_ids_selected_sorted = np.sort(gas_ids_selected)\n",
    "gas_den_selected = gas_den[selection]\n",
    "print(len(gas_ids_selected)) #~7*10^7 cells\n",
    "#last snapshot has 63837505 gas ids\n",
    "#snapshot 100 has 69002491 gas ids\n",
    "#-8.5% length"
   ]
  },
  {
   "cell_type": "code",
   "execution_count": 5,
   "metadata": {},
   "outputs": [],
   "source": [
    "snapshot_number = range(13,14)\n",
    "ids = []\n",
    "den = []\n",
    "ids.append(gas_ids_selected)\n",
    "den.append(gas_den_selected)\n",
    "new_order= np.zeros(len(gas_ids_selected)) -1\n"
   ]
  },
  {
   "cell_type": "code",
   "execution_count": 7,
   "metadata": {},
   "outputs": [
    {
     "name": "stdout",
     "output_type": "stream",
     "text": [
      "\n",
      "# in utilities.simulation.Snapshot():\n",
      "* reading:  scratch/projects/xsede/GalaxiesOnFIRE/fire3/m12i_m7e3/m12i_m7e3_HD_fire3_fireBH_Sep052021_hr_crdiffc690_sdp1e10_gacc31_fa0.5/snapshot_times.txt\n",
      "\n",
      "* reading:  scratch/projects/xsede/GalaxiesOnFIRE/fire3/m12i_m7e3/m12i_m7e3_HD_fire3_fireBH_Sep052021_hr_crdiffc690_sdp1e10_gacc31_fa0.5/snapshot_scalefactors.txt\n",
      "\n",
      "* reading:  scratch/projects/xsede/GalaxiesOnFIRE/fire3/m12i_m7e3/m12i_m7e3_HD_fire3_fireBH_Sep052021_hr_crdiffc690_sdp1e10_gacc31_fa0.5/snapshot_scale-factors.txt\n",
      "\n",
      "  using snapshot index = 13, redshift = 8.775\n",
      "\n",
      "\n",
      "# in gizmo_analysis.gizmo_io.Read():\n",
      "* reading header from:  scratch/projects/xsede/GalaxiesOnFIRE/fire3/m12i_m7e3/m12i_m7e3_HD_fire3_fireBH_Sep052021_hr_crdiffc690_sdp1e10_gacc31_fa0.5/output/snapshot_013.hdf5\n",
      "  snapshot contains the following number of particles:\n",
      "    dark      (id = 1): 70514272 particles\n",
      "    dark2     (id = 2): 5513331 particles\n",
      "    gas       (id = 0): 70506833 particles\n",
      "    star      (id = 4): 7439 particles\n",
      "    blackhole (id = 5): 0 particles\n",
      "\n",
      "* reading species: ['star', 'gas']\n",
      "* reading particles from:\n",
      "    scratch/projects/xsede/GalaxiesOnFIRE/fire3/m12i_m7e3/m12i_m7e3_HD_fire3_fireBH_Sep052021_hr_crdiffc690_sdp1e10_gacc31_fa0.5/output/snapshot_013.hdf5\n",
      "\n",
      "! cannot find MUSIC config file:  scratch/projects/xsede/GalaxiesOnFIRE/fire3/m12i_m7e3/m12i_m7e3_HD_fire3_fireBH_Sep052021_hr_crdiffc690_sdp1e10_gacc31_fa0.5/*/*.conf\n",
      "! missing cosmological parameters, assuming the following (from AGORA):\n",
      "  assuming sigma_8 = 0.807\n",
      "  assuming n_s = 0.961\n",
      "\n",
      "* checking sanity of particle properties\n",
      "\n",
      "  cannot read file containing hosts coordinates\n",
      "  instead will assign hosts via iterative zoom on particle mass\n",
      "\n",
      "# in utilities.particle.get_center_positions():\n",
      "* assigning position for 1 center/host, via iterative zoom-in on star particle mass\n",
      "  host1 position = (43617.95, 42539.74, 44188.46) [kpc comoving]\n",
      "\n",
      "# in utilities.particle.get_center_velocities():\n",
      "* assigning velocity for 1 center/host, weighting star particles by mass\n",
      "  host1 velocity = (-27.6, 41.8, 30.5) [km / s]\n",
      "\n",
      "\n",
      "# in utilities.particle.get_principal_axes():\n",
      "* assigning rotation tensor for 1 host\n",
      "  using star particles at distance < 10.0 kpc\n",
      "  using distance < 4.8 kpc that encloses 90% of mass\n",
      "  using youngest 25% of star particles\n",
      "  host1: using star particles with age = [0.000, 0.370] Gyr\n",
      "  host1: axis ratios: min/maj = 0.199, min/med = 0.398, med/maj = 0.500\n",
      "\n",
      "70506833\n"
     ]
    }
   ],
   "source": [
    "#testing in cell bewlow\n",
    "for i in range(len(snapshot_number)):\n",
    "    simname = '/scratch/projects/xsede/GalaxiesOnFIRE/fire3/m12i_m7e3/m12i_m7e3_HD_fire3_fireBH_Sep052021_hr_crdiffc690_sdp1e10_gacc31_fa0.5/'                                                         \n",
    "    simdir = '/scratch/projects/xsede/GalaxiesOnFIRE/fire3/m12i_m7e3/m12i_m7e3_HD_fire3_fireBH_Sep052021_hr_crdiffc690_sdp1e10_gacc31_fa0.5/'\n",
    "    part_z = gizmo.io.Read.read_snapshots(['star','gas'],'snapshot_index', snapshot_number[i], simulation_name=simname, simulation_directory=simdir,assign_hosts_rotation=True, assign_hosts=True)\n",
    "    \n",
    "    gas_ids_z = part_z['gas']['id']\n",
    "    gas_gen_z = part_z['gas']['id.generation']\n",
    "    selection_z = gas_gen_z == 0\n",
    "    gas_ids_selected_z = gas_ids_z[selection_z]\n",
    "    gas_ids_selected_sorted = np.sort(gas_ids_selected)\n",
    "    #locations = dosort[loc]\n",
    "    \n",
    "    #new_order[dosort][loc][j] = gas_ids_selected_z\n",
    "        \n",
    "\n",
    "    print(len(gas_ids_selected_z))"
   ]
  },
  {
   "cell_type": "code",
   "execution_count": 13,
   "metadata": {},
   "outputs": [
    {
     "name": "stdout",
     "output_type": "stream",
     "text": [
      "[ 2.7293291e+07  2.7294891e+07  2.7294357e+07 ... -1.0000000e+00\n",
      " -1.0000000e+00 -1.0000000e+00]\n",
      "[ 3.2912711e+07  3.6035239e+07  3.5054303e+07 ... -1.0000000e+00\n",
      " -1.0000000e+00 -1.0000000e+00]\n"
     ]
    }
   ],
   "source": [
    "gas_ids_z = part_z['gas']['id']\n",
    "gas_gen_z = part_z['gas']['id.generation']\n",
    "selection_z = gas_gen_z == 0\n",
    "gas_ids_selected_z = gas_ids_z[selection_z]\n",
    "gas_ids_selected_z_sorted = np.sort(gas_ids_selected_z)\n",
    "dosort = np.argsort(gas_ids_selected_z)\n",
    "loc = np.searchsorted(gas_ids_selected_z_sorted,gas_ids_selected_sorted)\n",
    "locations = dosort[loc]\n",
    "\n",
    "\n",
    "short_new_order = np.array(new_order[len(gas_ids_selected_z):],dtype=int) #short_new_order[locations] #justendings are negative\n",
    "new_order[locations] = np.concatenate([gas_ids_selected_z,short_new_order]) #put together gas_id_z_selected, so end of new_order[locations] are still -1s\n",
    "print(new_order[locations])\n",
    "print(new_order)\n",
    "\n",
    "#for i in range(len(gas_ids_selected_sorted)):\n",
    "#    new_order[locations][i] = gas_ids_selected_z_sorted[i]\n"
   ]
  },
  {
   "cell_type": "code",
   "execution_count": null,
   "metadata": {},
   "outputs": [],
   "source": [
    "print(loc)\n",
    "print(locations)\n",
    "print(np.where(new_order != -1))\n",
    "print(new_order)"
   ]
  },
  {
   "cell_type": "code",
   "execution_count": 7,
   "metadata": {},
   "outputs": [
    {
     "name": "stdout",
     "output_type": "stream",
     "text": [
      "\n",
      "# in utilities.simulation.Snapshot():\n",
      "* reading:  scratch/projects/xsede/GalaxiesOnFIRE/fire3/m12i_m7e3/m12i_m7e3_HD_fire3_fireBH_Sep052021_hr_crdiffc690_sdp1e10_gacc31_fa0.5/snapshot_times.txt\n",
      "\n",
      "* reading:  scratch/projects/xsede/GalaxiesOnFIRE/fire3/m12i_m7e3/m12i_m7e3_HD_fire3_fireBH_Sep052021_hr_crdiffc690_sdp1e10_gacc31_fa0.5/snapshot_scalefactors.txt\n",
      "\n",
      "* reading:  scratch/projects/xsede/GalaxiesOnFIRE/fire3/m12i_m7e3/m12i_m7e3_HD_fire3_fireBH_Sep052021_hr_crdiffc690_sdp1e10_gacc31_fa0.5/snapshot_scale-factors.txt\n",
      "\n",
      "  using snapshot index = 101, redshift = 2.273\n",
      "\n",
      "\n",
      "# in gizmo_analysis.gizmo_io.Read():\n",
      "* reading header from:  scratch/projects/xsede/GalaxiesOnFIRE/fire3/m12i_m7e3/m12i_m7e3_HD_fire3_fireBH_Sep052021_hr_crdiffc690_sdp1e10_gacc31_fa0.5/output/snapshot_101.hdf5\n",
      "  snapshot contains the following number of particles:\n",
      "    dark      (id = 1): 70514272 particles\n",
      "    dark2     (id = 2): 5513331 particles\n",
      "    gas       (id = 0): 69047036 particles\n",
      "    star      (id = 4): 1471241 particles\n",
      "    blackhole (id = 5): 0 particles\n",
      "\n",
      "* reading species: ['star', 'gas']\n",
      "* reading particles from:\n",
      "    scratch/projects/xsede/GalaxiesOnFIRE/fire3/m12i_m7e3/m12i_m7e3_HD_fire3_fireBH_Sep052021_hr_crdiffc690_sdp1e10_gacc31_fa0.5/output/snapshot_101.hdf5\n",
      "\n",
      "! cannot find MUSIC config file:  scratch/projects/xsede/GalaxiesOnFIRE/fire3/m12i_m7e3/m12i_m7e3_HD_fire3_fireBH_Sep052021_hr_crdiffc690_sdp1e10_gacc31_fa0.5/*/*.conf\n",
      "! missing cosmological parameters, assuming the following (from AGORA):\n",
      "  assuming sigma_8 = 0.807\n",
      "  assuming n_s = 0.961\n",
      "\n",
      "* checking sanity of particle properties\n",
      "\n",
      "  cannot read file containing hosts coordinates\n",
      "  instead will assign hosts via iterative zoom on particle mass\n",
      "\n",
      "# in utilities.particle.get_center_positions():\n",
      "* assigning position for 1 center/host, via iterative zoom-in on star particle mass\n",
      "  host1 position = (42936.95, 42395.46, 44747.75) [kpc comoving]\n",
      "\n",
      "# in utilities.particle.get_center_velocities():\n",
      "* assigning velocity for 1 center/host, weighting star particles by mass\n",
      "  host1 velocity = (-36.2, 62.5, 75.0) [km / s]\n",
      "\n",
      "\n",
      "# in utilities.particle.get_principal_axes():\n",
      "* assigning rotation tensor for 1 host\n",
      "  using star particles at distance < 10.0 kpc\n",
      "  using distance < 8.1 kpc that encloses 90% of mass\n",
      "  using youngest 25% of star particles\n",
      "  host1: using star particles with age = [0.000, 0.222] Gyr\n",
      "  host1: axis ratios: min/maj = 0.330, min/med = 0.717, med/maj = 0.460\n",
      "\n",
      "110.8974838256836\n",
      "Total time for all snaps is 110.8979172706604\n"
     ]
    }
   ],
   "source": [
    "t0 = t.time()\n",
    "for i in range(len(snapshot_number)):\n",
    "    t1 = t.time()\n",
    "    simname = '/scratch/projects/xsede/GalaxiesOnFIRE/fire3/m12i_m7e3/m12i_m7e3_HD_fire3_fireBH_Sep052021_hr_crdiffc690_sdp1e10_gacc31_fa0.5/'                                                         \n",
    "    simdir = '/scratch/projects/xsede/GalaxiesOnFIRE/fire3/m12i_m7e3/m12i_m7e3_HD_fire3_fireBH_Sep052021_hr_crdiffc690_sdp1e10_gacc31_fa0.5/'\n",
    "    partz = gizmo.io.Read.read_snapshots(['star','gas'],'snapshot_index', snapshot_number[i], simulation_name=simname, simulation_directory=simdir,\n",
    "                                    assign_hosts_rotation=True, assign_hosts=True)\n",
    "    \n",
    "    gas_id_z = partz['gas']['id']\n",
    "    gas_id_z_sorted = np.sort(gas_id_z)\n",
    "    gas_den_z = partz['gas']['density']\n",
    "    \n",
    "    loc = np.searchsorted(gas_ids_selected_sorted,gas_id_z)\n",
    "    locations = dosort[loc]\n",
    "    \n",
    "    ids.append(gas_id_z)\n",
    "    den.append(gas_den_z)\n",
    "    \n",
    "    t2 = t.time()\n",
    "    print(t2-t1)\n",
    "t3 = t.time()\n",
    "print('Total time for all snaps is ' + str(t3-t0))"
   ]
  },
  {
   "cell_type": "code",
   "execution_count": null,
   "metadata": {},
   "outputs": [],
   "source": [
    "#115.67876434326172s with matching\n",
    "#94.85135626792908s without matching"
   ]
  },
  {
   "cell_type": "code",
   "execution_count": null,
   "metadata": {},
   "outputs": [],
   "source": [
    "new_order[dosort[loc][i]] = gas_ids_selected_z[i]\n",
    "print(new_order)\n",
    "print(gas_ids_selected_z)"
   ]
  },
  {
   "cell_type": "code",
   "execution_count": null,
   "metadata": {},
   "outputs": [],
   "source": [
    "print(gas_ids_selected[locations])\n",
    "print(gas_ids_selected_z)\n",
    "print(gas_ids_selected_z[19394])\n",
    "print(gas_ids_selected[locations][19394])"
   ]
  },
  {
   "cell_type": "code",
   "execution_count": null,
   "metadata": {},
   "outputs": [],
   "source": []
  },
  {
   "cell_type": "code",
   "execution_count": null,
   "metadata": {},
   "outputs": [],
   "source": [
    "test = np.zeros(10)-1\n",
    "test[np.array([1, 2, 3])] = [3, 7, 1]\n",
    "print(test)"
   ]
  },
  {
   "cell_type": "code",
   "execution_count": null,
   "metadata": {},
   "outputs": [],
   "source": []
  },
  {
   "cell_type": "code",
   "execution_count": null,
   "metadata": {},
   "outputs": [],
   "source": []
  },
  {
   "cell_type": "code",
   "execution_count": null,
   "metadata": {},
   "outputs": [],
   "source": []
  }
 ],
 "metadata": {
  "kernelspec": {
   "display_name": "Python 3",
   "language": "python",
   "name": "python3"
  },
  "language_info": {
   "codemirror_mode": {
    "name": "ipython",
    "version": 3
   },
   "file_extension": ".py",
   "mimetype": "text/x-python",
   "name": "python",
   "nbconvert_exporter": "python",
   "pygments_lexer": "ipython3",
   "version": "3.8.5"
  }
 },
 "nbformat": 4,
 "nbformat_minor": 4
}
